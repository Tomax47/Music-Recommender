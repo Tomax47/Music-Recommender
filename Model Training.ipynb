{
 "cells": [
  {
   "cell_type": "code",
   "execution_count": 1,
   "id": "5dcf20ea",
   "metadata": {},
   "outputs": [],
   "source": [
    "import pandas as pd"
   ]
  },
  {
   "cell_type": "code",
   "execution_count": 13,
   "id": "8e8cb05d",
   "metadata": {},
   "outputs": [],
   "source": [
    "dataset = pd.read_csv(\"spotify_millsongdata.csv\")"
   ]
  },
  {
   "cell_type": "code",
   "execution_count": 14,
   "id": "2bcac3f9",
   "metadata": {},
   "outputs": [
    {
     "data": {
      "text/html": [
       "<div>\n",
       "<style scoped>\n",
       "    .dataframe tbody tr th:only-of-type {\n",
       "        vertical-align: middle;\n",
       "    }\n",
       "\n",
       "    .dataframe tbody tr th {\n",
       "        vertical-align: top;\n",
       "    }\n",
       "\n",
       "    .dataframe thead th {\n",
       "        text-align: right;\n",
       "    }\n",
       "</style>\n",
       "<table border=\"1\" class=\"dataframe\">\n",
       "  <thead>\n",
       "    <tr style=\"text-align: right;\">\n",
       "      <th></th>\n",
       "      <th>artist</th>\n",
       "      <th>song</th>\n",
       "      <th>link</th>\n",
       "      <th>text</th>\n",
       "    </tr>\n",
       "  </thead>\n",
       "  <tbody>\n",
       "    <tr>\n",
       "      <th>0</th>\n",
       "      <td>ABBA</td>\n",
       "      <td>Ahe's My Kind Of Girl</td>\n",
       "      <td>/a/abba/ahes+my+kind+of+girl_20598417.html</td>\n",
       "      <td>Look at her face, it's a wonderful face  \\r\\nA...</td>\n",
       "    </tr>\n",
       "    <tr>\n",
       "      <th>1</th>\n",
       "      <td>ABBA</td>\n",
       "      <td>Andante, Andante</td>\n",
       "      <td>/a/abba/andante+andante_20002708.html</td>\n",
       "      <td>Take it easy with me, please  \\r\\nTouch me gen...</td>\n",
       "    </tr>\n",
       "    <tr>\n",
       "      <th>2</th>\n",
       "      <td>ABBA</td>\n",
       "      <td>As Good As New</td>\n",
       "      <td>/a/abba/as+good+as+new_20003033.html</td>\n",
       "      <td>I'll never know why I had to go  \\r\\nWhy I had...</td>\n",
       "    </tr>\n",
       "    <tr>\n",
       "      <th>3</th>\n",
       "      <td>ABBA</td>\n",
       "      <td>Bang</td>\n",
       "      <td>/a/abba/bang_20598415.html</td>\n",
       "      <td>Making somebody happy is a question of give an...</td>\n",
       "    </tr>\n",
       "    <tr>\n",
       "      <th>4</th>\n",
       "      <td>ABBA</td>\n",
       "      <td>Bang-A-Boomerang</td>\n",
       "      <td>/a/abba/bang+a+boomerang_20002668.html</td>\n",
       "      <td>Making somebody happy is a question of give an...</td>\n",
       "    </tr>\n",
       "    <tr>\n",
       "      <th>5</th>\n",
       "      <td>ABBA</td>\n",
       "      <td>Burning My Bridges</td>\n",
       "      <td>/a/abba/burning+my+bridges_20003011.html</td>\n",
       "      <td>Well, you hoot and you holler and you make me ...</td>\n",
       "    </tr>\n",
       "    <tr>\n",
       "      <th>6</th>\n",
       "      <td>ABBA</td>\n",
       "      <td>Cassandra</td>\n",
       "      <td>/a/abba/cassandra_20002811.html</td>\n",
       "      <td>Down in the street they're all singing and sho...</td>\n",
       "    </tr>\n",
       "    <tr>\n",
       "      <th>7</th>\n",
       "      <td>ABBA</td>\n",
       "      <td>Chiquitita</td>\n",
       "      <td>/a/abba/chiquitita_20002978.html</td>\n",
       "      <td>Chiquitita, tell me what's wrong  \\r\\nYou're e...</td>\n",
       "    </tr>\n",
       "    <tr>\n",
       "      <th>8</th>\n",
       "      <td>ABBA</td>\n",
       "      <td>Crazy World</td>\n",
       "      <td>/a/abba/crazy+world_20003013.html</td>\n",
       "      <td>I was out with the morning sun  \\r\\nCouldn't s...</td>\n",
       "    </tr>\n",
       "    <tr>\n",
       "      <th>9</th>\n",
       "      <td>ABBA</td>\n",
       "      <td>Crying Over You</td>\n",
       "      <td>/a/abba/crying+over+you_20177611.html</td>\n",
       "      <td>I'm waitin' for you baby  \\r\\nI'm sitting all ...</td>\n",
       "    </tr>\n",
       "  </tbody>\n",
       "</table>\n",
       "</div>"
      ],
      "text/plain": [
       "  artist                   song                                        link  \\\n",
       "0   ABBA  Ahe's My Kind Of Girl  /a/abba/ahes+my+kind+of+girl_20598417.html   \n",
       "1   ABBA       Andante, Andante       /a/abba/andante+andante_20002708.html   \n",
       "2   ABBA         As Good As New        /a/abba/as+good+as+new_20003033.html   \n",
       "3   ABBA                   Bang                  /a/abba/bang_20598415.html   \n",
       "4   ABBA       Bang-A-Boomerang      /a/abba/bang+a+boomerang_20002668.html   \n",
       "5   ABBA     Burning My Bridges    /a/abba/burning+my+bridges_20003011.html   \n",
       "6   ABBA              Cassandra             /a/abba/cassandra_20002811.html   \n",
       "7   ABBA             Chiquitita            /a/abba/chiquitita_20002978.html   \n",
       "8   ABBA            Crazy World           /a/abba/crazy+world_20003013.html   \n",
       "9   ABBA        Crying Over You       /a/abba/crying+over+you_20177611.html   \n",
       "\n",
       "                                                text  \n",
       "0  Look at her face, it's a wonderful face  \\r\\nA...  \n",
       "1  Take it easy with me, please  \\r\\nTouch me gen...  \n",
       "2  I'll never know why I had to go  \\r\\nWhy I had...  \n",
       "3  Making somebody happy is a question of give an...  \n",
       "4  Making somebody happy is a question of give an...  \n",
       "5  Well, you hoot and you holler and you make me ...  \n",
       "6  Down in the street they're all singing and sho...  \n",
       "7  Chiquitita, tell me what's wrong  \\r\\nYou're e...  \n",
       "8  I was out with the morning sun  \\r\\nCouldn't s...  \n",
       "9  I'm waitin' for you baby  \\r\\nI'm sitting all ...  "
      ]
     },
     "execution_count": 14,
     "metadata": {},
     "output_type": "execute_result"
    }
   ],
   "source": [
    "dataset.head(10)"
   ]
  },
  {
   "cell_type": "code",
   "execution_count": 15,
   "id": "e3ab5470",
   "metadata": {},
   "outputs": [
    {
     "data": {
      "text/plain": [
       "(57650, 4)"
      ]
     },
     "execution_count": 15,
     "metadata": {},
     "output_type": "execute_result"
    }
   ],
   "source": [
    "dataset.shape"
   ]
  },
  {
   "cell_type": "code",
   "execution_count": 16,
   "id": "4f4213d8",
   "metadata": {},
   "outputs": [
    {
     "data": {
      "text/plain": [
       "artist    0\n",
       "song      0\n",
       "link      0\n",
       "text      0\n",
       "dtype: int64"
      ]
     },
     "execution_count": 16,
     "metadata": {},
     "output_type": "execute_result"
    }
   ],
   "source": [
    "dataset.isnull().sum()"
   ]
  },
  {
   "cell_type": "code",
   "execution_count": 27,
   "id": "cfe88198",
   "metadata": {},
   "outputs": [],
   "source": [
    "dataset = dataset.drop('link', axis=1).reset_index(drop=True)"
   ]
  },
  {
   "cell_type": "code",
   "execution_count": 28,
   "id": "02d683f6",
   "metadata": {},
   "outputs": [
    {
     "data": {
      "text/plain": [
       "\"I heard the stomping of feet dancing  \\r\\nOn the wooden floor upstairs  \\r\\nI wasn't in the mood for laughing  \\r\\nSo I sat silent in my chair  \\r\\nThere was someone missing I knew  \\r\\nOutside there fell the rain  \\r\\nWhere had she gone, what could I do  \\r\\nI played the waiting game  \\r\\nThe cigarette smoke was annoying  \\r\\nMy mood was fit for a bath  \\r\\nA drink couldn't oil my expression  \\r\\nNothing could've made me laugh  \\r\\nI was worried out of my head  \\r\\nI was in such a state  \\r\\nWhat's keeping her, where has she gone  \\r\\nI played the waiting game  \\r\\nWhen you love someone  \\r\\nYou worry when they're late  \\r\\nWhen you trust someone  \\r\\nYou know the time it takes  \\r\\nTo play the waiting game  \\r\\nThe music got louder and louder  \\r\\nFrom the wooden floor upstairs  \\r\\nI played with a handful of peanuts  \\r\\nThen I saw her standing there  \\r\\nMy mood leapt right out of the bath  \\r\\nShe had got stuck in the rain  \\r\\nHer coat dripped on a hanger  \\r\\nPlaying the waiting  \\r\\nI couldn't understand her  \\r\\nPlaying the waiting  \\r\\nSeemed like I'd wait forever  \\r\\nPlaying the waiting game\\r\\n\\r\\n\""
      ]
     },
     "execution_count": 28,
     "metadata": {},
     "output_type": "execute_result"
    }
   ],
   "source": [
    "dataset['text'][0]"
   ]
  },
  {
   "cell_type": "code",
   "execution_count": 32,
   "id": "e1b55378",
   "metadata": {},
   "outputs": [],
   "source": [
    "dataset = dataset.sample(5000)"
   ]
  },
  {
   "cell_type": "code",
   "execution_count": 33,
   "id": "bd19ca9f",
   "metadata": {},
   "outputs": [
    {
     "data": {
      "text/plain": [
       "(5000, 3)"
      ]
     },
     "execution_count": 33,
     "metadata": {},
     "output_type": "execute_result"
    }
   ],
   "source": [
    "dataset.shape"
   ]
  },
  {
   "cell_type": "code",
   "execution_count": 34,
   "id": "8d7abab1",
   "metadata": {},
   "outputs": [
    {
     "data": {
      "text/html": [
       "<div>\n",
       "<style scoped>\n",
       "    .dataframe tbody tr th:only-of-type {\n",
       "        vertical-align: middle;\n",
       "    }\n",
       "\n",
       "    .dataframe tbody tr th {\n",
       "        vertical-align: top;\n",
       "    }\n",
       "\n",
       "    .dataframe thead th {\n",
       "        text-align: right;\n",
       "    }\n",
       "</style>\n",
       "<table border=\"1\" class=\"dataframe\">\n",
       "  <thead>\n",
       "    <tr style=\"text-align: right;\">\n",
       "      <th></th>\n",
       "      <th>artist</th>\n",
       "      <th>song</th>\n",
       "      <th>text</th>\n",
       "    </tr>\n",
       "  </thead>\n",
       "  <tbody>\n",
       "    <tr>\n",
       "      <th>1326</th>\n",
       "      <td>Louis Armstrong</td>\n",
       "      <td>Do You Know What Means To Miss New Orleans</td>\n",
       "      <td>Do you know what it means to miss New Orleans ...</td>\n",
       "    </tr>\n",
       "    <tr>\n",
       "      <th>2266</th>\n",
       "      <td>NOFX</td>\n",
       "      <td>Lazy</td>\n",
       "      <td>I wish I could go  \\r\\nOff far away  \\r\\nWhere...</td>\n",
       "    </tr>\n",
       "    <tr>\n",
       "      <th>2712</th>\n",
       "      <td>Cyndi Lauper</td>\n",
       "      <td>Hymn To Love</td>\n",
       "      <td>If the sky should fall into the sea  \\r\\nAnd t...</td>\n",
       "    </tr>\n",
       "    <tr>\n",
       "      <th>3961</th>\n",
       "      <td>Guns N' Roses</td>\n",
       "      <td>Heartbreak Hotel</td>\n",
       "      <td>Well, since my baby left me,  \\r\\nI found a ne...</td>\n",
       "    </tr>\n",
       "    <tr>\n",
       "      <th>2539</th>\n",
       "      <td>Otis Redding</td>\n",
       "      <td>Hey Hey Baby</td>\n",
       "      <td>Hey, hey pretty baby  \\r\\nBaby, you sure is fi...</td>\n",
       "    </tr>\n",
       "    <tr>\n",
       "      <th>...</th>\n",
       "      <td>...</td>\n",
       "      <td>...</td>\n",
       "      <td>...</td>\n",
       "    </tr>\n",
       "    <tr>\n",
       "      <th>3953</th>\n",
       "      <td>Westlife</td>\n",
       "      <td>Have You Ever</td>\n",
       "      <td>[Chorus]  \\r\\nHave you ever loved somebody so ...</td>\n",
       "    </tr>\n",
       "    <tr>\n",
       "      <th>2573</th>\n",
       "      <td>W.A.S.P.</td>\n",
       "      <td>Chainsaw Charlie (Murders In The New Morgue)</td>\n",
       "      <td>O.K. boy now here's your deal  \\r\\nWill you ga...</td>\n",
       "    </tr>\n",
       "    <tr>\n",
       "      <th>4418</th>\n",
       "      <td>Black Sabbath</td>\n",
       "      <td>Anno Mundi</td>\n",
       "      <td>Can you see me, are you near me?  \\r\\nCan you ...</td>\n",
       "    </tr>\n",
       "    <tr>\n",
       "      <th>591</th>\n",
       "      <td>Hillsong</td>\n",
       "      <td>Better Than Life</td>\n",
       "      <td>Better than the riches of this world  \\r\\nBett...</td>\n",
       "    </tr>\n",
       "    <tr>\n",
       "      <th>3675</th>\n",
       "      <td>Marianne Faithfull</td>\n",
       "      <td>Marathon Kiss</td>\n",
       "      <td>I cherished the night of your marathon kiss,  ...</td>\n",
       "    </tr>\n",
       "  </tbody>\n",
       "</table>\n",
       "<p>5000 rows × 3 columns</p>\n",
       "</div>"
      ],
      "text/plain": [
       "                  artist                                          song  \\\n",
       "1326     Louis Armstrong    Do You Know What Means To Miss New Orleans   \n",
       "2266                NOFX                                          Lazy   \n",
       "2712        Cyndi Lauper                                  Hymn To Love   \n",
       "3961       Guns N' Roses                              Heartbreak Hotel   \n",
       "2539        Otis Redding                                  Hey Hey Baby   \n",
       "...                  ...                                           ...   \n",
       "3953            Westlife                                 Have You Ever   \n",
       "2573            W.A.S.P.  Chainsaw Charlie (Murders In The New Morgue)   \n",
       "4418       Black Sabbath                                    Anno Mundi   \n",
       "591             Hillsong                              Better Than Life   \n",
       "3675  Marianne Faithfull                                 Marathon Kiss   \n",
       "\n",
       "                                                   text  \n",
       "1326  Do you know what it means to miss New Orleans ...  \n",
       "2266  I wish I could go  \\r\\nOff far away  \\r\\nWhere...  \n",
       "2712  If the sky should fall into the sea  \\r\\nAnd t...  \n",
       "3961  Well, since my baby left me,  \\r\\nI found a ne...  \n",
       "2539  Hey, hey pretty baby  \\r\\nBaby, you sure is fi...  \n",
       "...                                                 ...  \n",
       "3953  [Chorus]  \\r\\nHave you ever loved somebody so ...  \n",
       "2573  O.K. boy now here's your deal  \\r\\nWill you ga...  \n",
       "4418  Can you see me, are you near me?  \\r\\nCan you ...  \n",
       "591   Better than the riches of this world  \\r\\nBett...  \n",
       "3675  I cherished the night of your marathon kiss,  ...  \n",
       "\n",
       "[5000 rows x 3 columns]"
      ]
     },
     "execution_count": 34,
     "metadata": {},
     "output_type": "execute_result"
    }
   ],
   "source": [
    "dataset"
   ]
  },
  {
   "cell_type": "markdown",
   "id": "7cc24237",
   "metadata": {},
   "source": [
    "Text Cleaning"
   ]
  },
  {
   "cell_type": "code",
   "execution_count": 35,
   "id": "a798f6c2",
   "metadata": {},
   "outputs": [],
   "source": [
    "dataset['text'] = dataset['text'].str.lower().replace(r'^\\w\\s', ' ').replace(r'\\n', ' ', regex = True)"
   ]
  },
  {
   "cell_type": "code",
   "execution_count": 46,
   "id": "1bbd8b0e",
   "metadata": {},
   "outputs": [
    {
     "name": "stderr",
     "output_type": "stream",
     "text": [
      "[nltk_data] Downloading package punkt to /root/nltk_data...\n",
      "[nltk_data]   Unzipping tokenizers/punkt.zip.\n"
     ]
    }
   ],
   "source": [
    "import nltk\n",
    "from nltk.stem.porter import PorterStemmer\n",
    "nltk.download('punkt')\n",
    "stemmer = PorterStemmer()\n",
    "\n",
    "def tokenization(txt):\n",
    "    tokens = nltk.word_tokenize(txt)\n",
    "    stemming = [stemmer.stem(w) for w in tokens]\n",
    "    return \" \".join(stemming)"
   ]
  },
  {
   "cell_type": "code",
   "execution_count": 48,
   "id": "ede75e6f",
   "metadata": {},
   "outputs": [
    {
     "data": {
      "text/plain": [
       "1326    do you know what it means to miss new orleans ...\n",
       "2266    i wish i could go  \\r off far away  \\r where t...\n",
       "2712    if the sky should fall into the sea  \\r and th...\n",
       "3961    well, since my baby left me,  \\r i found a new...\n",
       "2539    hey, hey pretty baby  \\r baby, you sure is fin...\n",
       "2743    you look at me and see the girl  \\r who lives ...\n",
       "145     rising with the sun, the work has been done  \\...\n",
       "3904    remember the days of the old schoolyard  \\r   ...\n",
       "2578    hi hello wake from thy sleep  \\r god has given...\n",
       "1086    i met a little girl sitting in the front  \\r p...\n",
       "Name: text, dtype: object"
      ]
     },
     "execution_count": 48,
     "metadata": {},
     "output_type": "execute_result"
    }
   ],
   "source": [
    "dataset['text'].head(10)"
   ]
  },
  {
   "cell_type": "code",
   "execution_count": 49,
   "id": "5b44d2f4",
   "metadata": {},
   "outputs": [],
   "source": [
    "dataset['text'] = dataset['text'].apply(lambda x: tokenization(x))"
   ]
  },
  {
   "cell_type": "code",
   "execution_count": 50,
   "id": "c735395b",
   "metadata": {},
   "outputs": [],
   "source": [
    "from sklearn.feature_extraction.text import TfidfVectorizer\n",
    "from sklearn.metrics.pairwise import cosine_similarity"
   ]
  },
  {
   "cell_type": "code",
   "execution_count": 51,
   "id": "20734cf6",
   "metadata": {},
   "outputs": [],
   "source": [
    "tfidvector = TfidfVectorizer(analyzer='word',stop_words='english')\n",
    "\n",
    "matrix = tfidvector.fit_transform(dataset['text'])\n",
    "\n",
    "similarity = cosine_similarity(matrix)"
   ]
  },
  {
   "cell_type": "code",
   "execution_count": 52,
   "id": "f30bf063",
   "metadata": {},
   "outputs": [
    {
     "data": {
      "text/plain": [
       "array([1.        , 0.01378021, 0.0404279 , ..., 0.03803842, 0.05677566,\n",
       "       0.01162198])"
      ]
     },
     "execution_count": 52,
     "metadata": {},
     "output_type": "execute_result"
    }
   ],
   "source": [
    "similarity[0]"
   ]
  },
  {
   "cell_type": "code",
   "execution_count": 53,
   "id": "86996634",
   "metadata": {},
   "outputs": [
    {
     "data": {
      "text/html": [
       "<div>\n",
       "<style scoped>\n",
       "    .dataframe tbody tr th:only-of-type {\n",
       "        vertical-align: middle;\n",
       "    }\n",
       "\n",
       "    .dataframe tbody tr th {\n",
       "        vertical-align: top;\n",
       "    }\n",
       "\n",
       "    .dataframe thead th {\n",
       "        text-align: right;\n",
       "    }\n",
       "</style>\n",
       "<table border=\"1\" class=\"dataframe\">\n",
       "  <thead>\n",
       "    <tr style=\"text-align: right;\">\n",
       "      <th></th>\n",
       "      <th>artist</th>\n",
       "      <th>song</th>\n",
       "      <th>text</th>\n",
       "    </tr>\n",
       "  </thead>\n",
       "  <tbody>\n",
       "    <tr>\n",
       "      <th>4782</th>\n",
       "      <td>UB40</td>\n",
       "      <td>Crying Over You</td>\n",
       "      <td>cri over you in the morn cri over you in the e...</td>\n",
       "    </tr>\n",
       "  </tbody>\n",
       "</table>\n",
       "</div>"
      ],
      "text/plain": [
       "     artist             song  \\\n",
       "4782   UB40  Crying Over You   \n",
       "\n",
       "                                                   text  \n",
       "4782  cri over you in the morn cri over you in the e...  "
      ]
     },
     "execution_count": 53,
     "metadata": {},
     "output_type": "execute_result"
    }
   ],
   "source": [
    "dataset[dataset['song'] == 'Crying Over You']"
   ]
  },
  {
   "cell_type": "code",
   "execution_count": 54,
   "id": "85f9a413",
   "metadata": {},
   "outputs": [],
   "source": [
    "def recommendation(song_df):\n",
    "    idx = df[df['song'] == song_df].index[0]\n",
    "    distances = sorted(list(enumerate(similarity[idx])),reverse=True,key=lambda x:x[1])\n",
    "    \n",
    "    songs = []\n",
    "    for m_id in distances[1:21]:\n",
    "        songs.append(df.iloc[m_id[0]].song)\n",
    "        \n",
    "    return songs"
   ]
  },
  {
   "cell_type": "code",
   "execution_count": 55,
   "id": "bf9690c6",
   "metadata": {},
   "outputs": [
    {
     "data": {
      "text/plain": [
       "['Bang A Drum',\n",
       " 'Roxie',\n",
       " 'Freaky In The Club',\n",
       " 'I Feel It',\n",
       " 'Horseshoes and Handgrenades',\n",
       " \"Ain't No Cure For Love (Crush Demo)\",\n",
       " 'Green Is The Colour',\n",
       " \"Let's Keep It Between Us\",\n",
       " 'Shirtsleeves',\n",
       " 'Getting Over You',\n",
       " 'Something Beautiful',\n",
       " 'The Trouble With Lovers',\n",
       " 'Reaching For You',\n",
       " 'Good Morning',\n",
       " 'Kaddish',\n",
       " 'Love Song',\n",
       " 'Break The Spell',\n",
       " 'Astonishing Panorama Of The Endtimes',\n",
       " 'Same Direction',\n",
       " 'Verge']"
      ]
     },
     "execution_count": 55,
     "metadata": {},
     "output_type": "execute_result"
    }
   ],
   "source": [
    "recommendation('Crying Over You')"
   ]
  },
  {
   "cell_type": "code",
   "execution_count": 56,
   "id": "e5a96fe4",
   "metadata": {},
   "outputs": [],
   "source": [
    "import pickle\n",
    "pickle.dump(similarity,open('similarity.pkl','wb'))\n",
    "pickle.dump(dataset,open('dataset.pkl','wb'))"
   ]
  },
  {
   "cell_type": "code",
   "execution_count": null,
   "id": "8a28ed2f",
   "metadata": {},
   "outputs": [],
   "source": []
  }
 ],
 "metadata": {
  "kernelspec": {
   "display_name": "Python 3 (ipykernel)",
   "language": "python",
   "name": "python3"
  },
  "language_info": {
   "codemirror_mode": {
    "name": "ipython",
    "version": 3
   },
   "file_extension": ".py",
   "mimetype": "text/x-python",
   "name": "python",
   "nbconvert_exporter": "python",
   "pygments_lexer": "ipython3",
   "version": "3.11.8"
  }
 },
 "nbformat": 4,
 "nbformat_minor": 5
}
